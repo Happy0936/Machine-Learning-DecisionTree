{
 "cells": [
  {
   "cell_type": "code",
   "execution_count": 1,
   "id": "28544264-b8ed-41be-97d0-482ad32278f5",
   "metadata": {},
   "outputs": [],
   "source": [
    "import pandas as pd\n",
    "import math"
   ]
  },
  {
   "cell_type": "code",
   "execution_count": 2,
   "id": "a23b8187-20ed-4567-ab12-e38b7a5c1d1d",
   "metadata": {},
   "outputs": [],
   "source": [
    "#Step 1: Load Dataset\n",
    "data = pd.read_csv(\"buy.csv\")\n",
    "for col in data.columns:\n",
    "    if \"s.no\" in col.lower() or \"unnamed\" in col.lower():\n",
    "        data = data.drop(columns=[col])"
   ]
  },
  {
   "cell_type": "code",
   "execution_count": 4,
   "id": "da3ba51b-25af-48be-ba83-bb6e6e0a92bb",
   "metadata": {},
   "outputs": [],
   "source": [
    "#Step 2: Gini Index Function\n",
    "def gini_index(groups, classes):\n",
    "    n_instances = sum([len(group) for group in groups])\n",
    "    gini = 0.0\n",
    "    for group in groups:\n",
    "        size = len(group)\n",
    "        if size == 0:\n",
    "            continue\n",
    "        score = 0.0\n",
    "        for class_val in classes:\n",
    "            p = (group['Buy'] == class_val).sum() / size\n",
    "            score += p * p\n",
    "        gini += (1 - score) * (size / n_instances)\n",
    "    return gini"
   ]
  },
  {
   "cell_type": "code",
   "execution_count": 5,
   "id": "efa57dcb-33d9-4547-a9c9-4242bba4733b",
   "metadata": {},
   "outputs": [],
   "source": [
    "# Step 3: Split Dataset\n",
    "def test_split(attribute, value, dataset):\n",
    "    left = dataset[dataset[attribute] == value]\n",
    "    right = dataset[dataset[attribute] != value]\n",
    "    return left, right\n"
   ]
  },
  {
   "cell_type": "code",
   "execution_count": 6,
   "id": "07065565-2fe6-4287-88b9-56cf159e3d70",
   "metadata": {},
   "outputs": [],
   "source": [
    "# Step 4: Find Best Split\n",
    "def get_best_split(dataset, attributes):\n",
    "    class_values = dataset['Buy'].unique()\n",
    "    best_gini = 1.0\n",
    "    best_split = None\n",
    "    for attr in attributes:\n",
    "        values = dataset[attr].unique()\n",
    "        for val in values:\n",
    "            left, right = test_split(attr, val, dataset)\n",
    "            gini = gini_index([left, right], class_values)\n",
    "            if gini < best_gini:\n",
    "                best_gini = gini\n",
    "                best_split = {\n",
    "                    'attribute': attr,\n",
    "                    'value': val,\n",
    "                    'left': left,\n",
    "                    'right': right\n",
    "                }\n",
    "    return best_split"
   ]
  },
  {
   "cell_type": "code",
   "execution_count": 7,
   "id": "68068311-4705-4755-874d-0f6e4a41700e",
   "metadata": {},
   "outputs": [],
   "source": [
    "# Step 5: Recursive Tree Builder\n",
    "\n",
    "def build_tree(dataset, attributes, depth=0, max_depth=10):\n",
    "    if len(dataset['Buy'].unique()) == 1:\n",
    "        return dataset['Buy'].iloc[0]\n",
    "    if len(dataset) == 0:\n",
    "        return 'Yes' if (dataset['Buy'] == 'Yes').sum() >= (dataset['Buy'] == 'No').sum() else 'No'\n",
    "\n",
    "    split = get_best_split(dataset, attributes)\n",
    "    if split is None:\n",
    "        return 'Yes' if (dataset['Buy'] == 'Yes').sum() >= (dataset['Buy'] == 'No').sum() else 'No'\n",
    "\n",
    "    left_tree = build_tree(split['left'], attributes, depth + 1, max_depth)\n",
    "    right_tree = build_tree(split['right'], attributes, depth + 1, max_depth)\n",
    "\n",
    "    return {\n",
    "        'attribute': split['attribute'],\n",
    "        'value': split['value'],\n",
    "        'left': left_tree,\n",
    "        'right': right_tree,\n",
    "        'groups': (split['left'], split['right'])\n",
    "    }"
   ]
  },
  {
   "cell_type": "code",
   "execution_count": 8,
   "id": "a97504aa-ce6b-4c42-b572-8a5cca5600f4",
   "metadata": {},
   "outputs": [],
   "source": [
    "#Step 6: Print Tree (Pretty)\n",
    "def print_tree(node, indent=\"\"):\n",
    "    if not isinstance(node, dict):\n",
    "        print(indent + str(node))\n",
    "        return\n",
    "\n",
    "    attr = node['attribute']\n",
    "    val = node['value']\n",
    "    left = node['left']\n",
    "    right = node['right']\n",
    "\n",
    "    print(f\"{indent}[{attr}]\")\n",
    "    print(f\"{indent}├── {val} → \", end=\"\")\n",
    "    if isinstance(left, dict):\n",
    "        print()\n",
    "        print_tree(left, indent + \"│   \")\n",
    "    else:\n",
    "        print(left)\n",
    "\n",
    "    remaining_values = set(node['groups'][1][attr])\n",
    "    remaining_str = \", \".join(sorted(remaining_values, key=lambda x: (x.isdigit(), x, x)))\n",
    "    print(f\"{indent}└── {remaining_str} → \", end=\"\")\n",
    "    if isinstance(right, dict):\n",
    "        print()\n",
    "        print_tree(right, indent + \"    \")\n",
    "    else:\n",
    "        print(right)"
   ]
  },
  {
   "cell_type": "code",
   "execution_count": 9,
   "id": "8448221b-19fd-4afd-8573-dd3037a52186",
   "metadata": {},
   "outputs": [
    {
     "name": "stdout",
     "output_type": "stream",
     "text": [
      "[Age]\n",
      "├── 31-40 → Yes\n",
      "└── <30, >40 → \n",
      "    [Student]\n",
      "    ├── No → \n",
      "    │   [Age]\n",
      "    │   ├── <30 → No\n",
      "    │   └── >40 → \n",
      "    │       [Credit]\n",
      "    │       ├── Fair → Yes\n",
      "    │       └── Excellent → No\n",
      "    └── Yes → \n",
      "        [Credit]\n",
      "        ├── Fair → Yes\n",
      "        └── Excellent → \n",
      "            [Age]\n",
      "            ├── >40 → No\n",
      "            └── <30 → Yes\n"
     ]
    }
   ],
   "source": [
    "#Step 7: Build & Print Tree\n",
    "attributes = ['Age', 'Income', 'Student', 'Credit']\n",
    "tree = build_tree(data, attributes)\n",
    "print_tree(tree)"
   ]
  },
  {
   "cell_type": "code",
   "execution_count": null,
   "id": "1e6b6a63-a7b1-464c-85d9-da43e777f949",
   "metadata": {},
   "outputs": [],
   "source": []
  }
 ],
 "metadata": {
  "kernelspec": {
   "display_name": "Python 3 (ipykernel)",
   "language": "python",
   "name": "python3"
  },
  "language_info": {
   "codemirror_mode": {
    "name": "ipython",
    "version": 3
   },
   "file_extension": ".py",
   "mimetype": "text/x-python",
   "name": "python",
   "nbconvert_exporter": "python",
   "pygments_lexer": "ipython3",
   "version": "3.10.5"
  }
 },
 "nbformat": 4,
 "nbformat_minor": 5
}
