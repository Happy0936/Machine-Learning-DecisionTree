{
 "cells": [
  {
   "cell_type": "code",
   "execution_count": 4,
   "id": "4470488a-e7d1-47bb-8123-f9cd26d5a4f4",
   "metadata": {},
   "outputs": [],
   "source": [
    "import math\n",
    "import pandas as pd"
   ]
  },
  {
   "cell_type": "code",
   "execution_count": 5,
   "id": "0db80aa6-e341-4d74-a837-59695d2e4eaa",
   "metadata": {},
   "outputs": [],
   "source": [
    "#STEP 1: Load the Dataset\n",
    "data = pd.read_csv(\"buy.csv\")\n",
    "for col in data.columns:\n",
    "    if \"s.no\" in col.lower() or \"unnamed\" in col.lower():\n",
    "        data = data.drop(columns=[col])\n",
    "\n",
    "rows = data.to_dict(orient=\"records\")"
   ]
  },
  {
   "cell_type": "code",
   "execution_count": 6,
   "id": "d79c04f4-3796-441d-8bf7-23d153e1bccd",
   "metadata": {},
   "outputs": [],
   "source": [
    "#STEP 2: Entropy Function\n",
    "def entropy(data, target=\"Buy\"):\n",
    "    values = [row[target] for row in data]\n",
    "    classes = set(values)\n",
    "    ent = 0\n",
    "    for c in classes:\n",
    "        p = values.count(c) / len(values)\n",
    "        ent -= p * math.log2(p)\n",
    "    return ent"
   ]
  },
  {
   "cell_type": "code",
   "execution_count": 7,
   "id": "02cea6f9-c27c-4fa4-a607-6beec30a905c",
   "metadata": {},
   "outputs": [],
   "source": [
    "#STEP 3: Information Gain\n",
    "def info_gain(data, attribute, target=\"Buy\"):\n",
    "    total_entropy = entropy(data, target)\n",
    "    values = set([row[attribute] for row in data])\n",
    "    weighted_entropy = 0\n",
    "    for v in values:\n",
    "        subset = [row for row in data if row[attribute] == v]\n",
    "        weighted_entropy += (len(subset)/len(data)) * entropy(subset, target)\n",
    "    return total_entropy - weighted_entropy"
   ]
  },
  {
   "cell_type": "code",
   "execution_count": 8,
   "id": "a631312c-0fca-4f4f-8431-5f3ad946d733",
   "metadata": {},
   "outputs": [],
   "source": [
    "#STEP 4: ID3 Algorithm (Recursive)\n",
    "def id3(data, features, target=\"Buy\"):\n",
    "    classes = [row[target] for row in data]\n",
    "    if classes.count(classes[0]) == len(classes):\n",
    "        return classes[0]\n",
    "\n",
    "    if not features:\n",
    "        return max(set(classes), key=classes.count)\n",
    "\n",
    "    gains = [info_gain(data, f, target) for f in features]\n",
    "    best_feature = features[gains.index(max(gains))]\n",
    "    tree = {best_feature:{}}\n",
    "\n",
    "    values = set([row[best_feature] for row in data])\n",
    "    for v in values:\n",
    "        subset = [row for row in data if row[best_feature] == v]\n",
    "        if not subset:\n",
    "            tree[best_feature][v] = max(set(classes), key=classes.count)\n",
    "        else:\n",
    "            new_features = [f for f in features if f != best_feature]\n",
    "            subtree = id3(subset, new_features, target)\n",
    "            tree[best_feature][v] = subtree\n",
    "    return tree"
   ]
  },
  {
   "cell_type": "code",
   "execution_count": 9,
   "id": "1da6b41c-b72a-417c-bdb1-27a3295886c0",
   "metadata": {},
   "outputs": [],
   "source": [
    "#STEP 5: Build Tree\n",
    "features = list(data.columns)\n",
    "if \"Buy\" in features:\n",
    "    features.remove(\"Buy\")\n",
    "decision_tree = id3(rows, features)"
   ]
  },
  {
   "cell_type": "code",
   "execution_count": 10,
   "id": "16bb610a-bf25-4a15-bc27-a1d66e579df3",
   "metadata": {},
   "outputs": [],
   "source": [
    "#STEP 6: Pretty Print Tree (Graph Format)\n",
    "def print_tree(tree, indent=\"\", is_last=True):\n",
    "    \"\"\"Recursively print tree in structured format\"\"\"\n",
    "    if isinstance(tree, dict):\n",
    "        root = list(tree.keys())[0]\n",
    "        print(indent + (\"└── \" if is_last else \"├── \") + f\"[{root}]\")\n",
    "        children = tree[root]\n",
    "        n = len(children)\n",
    "        for i, (val, subtree) in enumerate(children.items()):\n",
    "            last = (i == n - 1)\n",
    "            branch = \"    \" if is_last else \"│   \"\n",
    "            print(indent + (\"    \" if is_last else \"│   \") + (\"└── \" if last else \"├── \") + f\"{val} → \", end=\"\")\n",
    "            if isinstance(subtree, dict):\n",
    "                print()\n",
    "                print_tree(subtree, indent + branch + (\"    \" if last else \"│   \"), last)\n",
    "            else:\n",
    "                print(subtree)\n",
    "    else:\n",
    "        print(indent + (\"└── \" if is_last else \"├── \") + str(tree))\n"
   ]
  },
  {
   "cell_type": "code",
   "execution_count": 11,
   "id": "7a687624-aab9-4a0e-be10-ae69cbed10a0",
   "metadata": {},
   "outputs": [
    {
     "name": "stdout",
     "output_type": "stream",
     "text": [
      "Final Decision Tree (Graph Format):\n",
      "└── [Age]\n",
      "    ├── 31-40 → Yes\n",
      "    ├── >40 → \n",
      "    │   ├── [Credit]\n",
      "    │   │   ├── Excellent → No\n",
      "    │   │   └── Fair → Yes\n",
      "    └── <30 → \n",
      "        └── [Student]\n",
      "            ├── No → No\n",
      "            └── Yes → Yes\n"
     ]
    }
   ],
   "source": [
    "#STEP 7: Output Final Tree\n",
    "print(\"Final Decision Tree (Graph Format):\")\n",
    "print_tree(decision_tree)"
   ]
  },
  {
   "cell_type": "code",
   "execution_count": null,
   "id": "045f2d65-26b7-4518-a7b0-2a21348c8db7",
   "metadata": {},
   "outputs": [],
   "source": []
  },
  {
   "cell_type": "code",
   "execution_count": null,
   "id": "3f147d30-10c6-415f-af17-c6418c05f6fa",
   "metadata": {},
   "outputs": [],
   "source": []
  }
 ],
 "metadata": {
  "kernelspec": {
   "display_name": "Python 3 (ipykernel)",
   "language": "python",
   "name": "python3"
  },
  "language_info": {
   "codemirror_mode": {
    "name": "ipython",
    "version": 3
   },
   "file_extension": ".py",
   "mimetype": "text/x-python",
   "name": "python",
   "nbconvert_exporter": "python",
   "pygments_lexer": "ipython3",
   "version": "3.10.5"
  }
 },
 "nbformat": 4,
 "nbformat_minor": 5
}
