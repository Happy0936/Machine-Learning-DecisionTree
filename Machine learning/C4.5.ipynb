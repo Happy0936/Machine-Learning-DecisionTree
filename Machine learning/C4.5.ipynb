{
 "cells": [
  {
   "cell_type": "code",
   "execution_count": 1,
   "id": "ed91165e-c67b-434d-9b88-95bdbd8a3b68",
   "metadata": {},
   "outputs": [],
   "source": [
    "import math\n",
    "import pandas as pd"
   ]
  },
  {
   "cell_type": "code",
   "execution_count": 2,
   "id": "99d1d9f3-f4c3-4482-98f6-f9aa5026694f",
   "metadata": {},
   "outputs": [],
   "source": [
    "#STEP 1: Load the Dataset from CSV\n",
    "data = pd.read_csv(\"buy.csv\")\n",
    "\n",
    "for col in data.columns:\n",
    "    if \"s.no\" in col.lower() or \"unnamed\" in col.lower():\n",
    "        data = data.drop(columns=[col])\n",
    "data_dict = {col: list(data[col]) for col in data.columns}\n"
   ]
  },
  {
   "cell_type": "code",
   "execution_count": 3,
   "id": "9e1c2c80-49d2-4769-88b1-defa28e4a3e0",
   "metadata": {},
   "outputs": [],
   "source": [
    "#STEP 2: Entropy Function\n",
    "def entropy(col):\n",
    "    values = {}\n",
    "    for val in col:\n",
    "        values[val] = values.get(val, 0) + 1\n",
    "    total = len(col)\n",
    "    ent = 0\n",
    "    for count in values.values():\n",
    "        prob = count / total\n",
    "        ent -= prob * math.log2(prob)\n",
    "    return ent"
   ]
  },
  {
   "cell_type": "code",
   "execution_count": 4,
   "id": "9e50150e-c76b-4e1a-b588-81e2ca777236",
   "metadata": {},
   "outputs": [],
   "source": [
    "#STEP 3: Gain Ratio Calculation\n",
    "def calc_gain_ratio(data, attr, target=\"Buy\"):\n",
    "    total_entropy = entropy(data[target])\n",
    "    values = {}\n",
    "    for i in range(len(data[attr])):\n",
    "        val = data[attr][i]\n",
    "        target_val = data[target][i]\n",
    "        if val not in values:\n",
    "            values[val] = []\n",
    "        values[val].append(target_val)\n",
    "\n",
    "    weighted_entropy = 0\n",
    "    split_info = 0\n",
    "    total = len(data[attr])\n",
    "\n",
    "    for val, subset in values.items():\n",
    "        prob = len(subset) / total\n",
    "        weighted_entropy += prob * entropy(subset)\n",
    "        split_info -= prob * math.log2(prob)\n",
    "\n",
    "    info_gain = total_entropy - weighted_entropy\n",
    "    gain_ratio = info_gain / split_info if split_info != 0 else 0\n",
    "    return gain_ratio"
   ]
  },
  {
   "cell_type": "code",
   "execution_count": 5,
   "id": "21c46530-620d-4a78-b14e-6661d97ae540",
   "metadata": {},
   "outputs": [],
   "source": [
    "#STEP 4: Recursive C4.5 Algorithm\n",
    "def c45(data, features, target=\"Buy\"):\n",
    "    if len(set(data[target])) == 1:\n",
    "        return data[target][0]\n",
    "    if not features:\n",
    "        return max(set(data[target]), key=data[target].count)\n",
    "\n",
    "    best_feature = max(features, key=lambda f: calc_gain_ratio(data, f, target))\n",
    "    tree = {best_feature: {}}\n",
    "\n",
    "    feature_values = set(data[best_feature])\n",
    "    for value in feature_values:\n",
    "        subset = {k: [] for k in data.keys()}\n",
    "        for i in range(len(data[target])):\n",
    "            if data[best_feature][i] == value:\n",
    "                for key in data.keys():\n",
    "                    subset[key].append(data[key][i])\n",
    "\n",
    "        if not subset[target]:\n",
    "            tree[best_feature][value] = max(set(data[target]), key=data[target].count)\n",
    "        else:\n",
    "            remaining = [f for f in features if f != best_feature]\n",
    "            tree[best_feature][value] = c45(subset, remaining, target)\n",
    "\n",
    "    return tree"
   ]
  },
  {
   "cell_type": "code",
   "execution_count": 6,
   "id": "9be3c14a-6c30-4e54-94c6-f9960b6d71d4",
   "metadata": {},
   "outputs": [],
   "source": [
    "#STEP 5: Pretty Print Tree (Well-Structured)\n",
    "def print_tree(tree, indent=\"\", last=True):\n",
    "    for attr, branches in tree.items():\n",
    "        prefix = \"└── \" if last else \"├── \"\n",
    "        print(f\"{indent}{prefix}[{attr}]\")\n",
    "        child_indent = indent + (\"    \" if last else \"│   \")\n",
    "\n",
    "        for i, (val, child) in enumerate(branches.items()):\n",
    "            is_last = (i == len(branches) - 1)\n",
    "            branch_prefix = \"└── \" if is_last else \"├── \"\n",
    "            if isinstance(child, dict):\n",
    "                print(f\"{child_indent}{branch_prefix}{val} → \")\n",
    "                print_tree(child, child_indent + (\"    \" if is_last else \"│   \"), is_last)\n",
    "            else:\n",
    "                print(f\"{child_indent}{branch_prefix}{val} → {child}\")"
   ]
  },
  {
   "cell_type": "code",
   "execution_count": 7,
   "id": "1f8290a5-702c-431a-b0a1-b09d97ca849e",
   "metadata": {},
   "outputs": [
    {
     "name": "stdout",
     "output_type": "stream",
     "text": [
      "Final Decision Tree (Graph Format):\n",
      "\n",
      "└── [Age]\n",
      "    ├── >40 → \n",
      "    │   ├── [Credit]\n",
      "    │   │   ├── Fair → Yes\n",
      "    │   │   └── Excellent → No\n",
      "    ├── <30 → \n",
      "    │   ├── [Student]\n",
      "    │   │   ├── Yes → Yes\n",
      "    │   │   └── No → No\n",
      "    └── 31-40 → Yes\n"
     ]
    }
   ],
   "source": [
    "#STEP 6: Run C4.5 Algorithm\n",
    "features = [f for f in data_dict.keys() if f != \"Buy\"]\n",
    "final_tree = c45(data_dict, features)\n",
    "\n",
    "print(\"Final Decision Tree (Graph Format):\\n\")\n",
    "print_tree(final_tree)"
   ]
  },
  {
   "cell_type": "code",
   "execution_count": 9,
   "id": "2306f757-32cc-4d35-aac8-bf75c906c5e7",
   "metadata": {},
   "outputs": [
    {
     "data": {
      "text/plain": [
       "'C:\\\\Users\\\\hp\\\\M.Tech Project\\\\Machine learning'"
      ]
     },
     "execution_count": 9,
     "metadata": {},
     "output_type": "execute_result"
    }
   ],
   "source": [
    "\n"
   ]
  },
  {
   "cell_type": "code",
   "execution_count": null,
   "id": "654f90ec-bdbf-48a4-a1a7-32e3a8f63c90",
   "metadata": {},
   "outputs": [],
   "source": []
  }
 ],
 "metadata": {
  "kernelspec": {
   "display_name": "Python 3 (ipykernel)",
   "language": "python",
   "name": "python3"
  },
  "language_info": {
   "codemirror_mode": {
    "name": "ipython",
    "version": 3
   },
   "file_extension": ".py",
   "mimetype": "text/x-python",
   "name": "python",
   "nbconvert_exporter": "python",
   "pygments_lexer": "ipython3",
   "version": "3.10.5"
  }
 },
 "nbformat": 4,
 "nbformat_minor": 5
}
